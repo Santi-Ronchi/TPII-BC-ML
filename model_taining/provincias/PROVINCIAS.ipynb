{
  "cells": [
    {
      "cell_type": "code",
      "execution_count": 2109,
      "metadata": {
        "colab": {
          "base_uri": "https://localhost:8080/"
        },
        "id": "oJgryqHZ5-aw",
        "outputId": "10b7ebe4-2f93-4165-f408-ece96b308d6d"
      },
      "outputs": [
        {
          "name": "stdout",
          "output_type": "stream",
          "text": [
            "1.5.2\n",
            "Requirement already satisfied: catboost in /usr/local/lib/python3.10/dist-packages (1.2.7)\n",
            "Requirement already satisfied: graphviz in /usr/local/lib/python3.10/dist-packages (from catboost) (0.20.3)\n",
            "Requirement already satisfied: matplotlib in /usr/local/lib/python3.10/dist-packages (from catboost) (3.7.1)\n",
            "Requirement already satisfied: numpy<2.0,>=1.16.0 in /usr/local/lib/python3.10/dist-packages (from catboost) (1.26.4)\n",
            "Requirement already satisfied: pandas>=0.24 in /usr/local/lib/python3.10/dist-packages (from catboost) (2.2.2)\n",
            "Requirement already satisfied: scipy in /usr/local/lib/python3.10/dist-packages (from catboost) (1.13.1)\n",
            "Requirement already satisfied: plotly in /usr/local/lib/python3.10/dist-packages (from catboost) (5.24.1)\n",
            "Requirement already satisfied: six in /usr/local/lib/python3.10/dist-packages (from catboost) (1.16.0)\n",
            "Requirement already satisfied: python-dateutil>=2.8.2 in /usr/local/lib/python3.10/dist-packages (from pandas>=0.24->catboost) (2.8.2)\n",
            "Requirement already satisfied: pytz>=2020.1 in /usr/local/lib/python3.10/dist-packages (from pandas>=0.24->catboost) (2024.2)\n",
            "Requirement already satisfied: tzdata>=2022.7 in /usr/local/lib/python3.10/dist-packages (from pandas>=0.24->catboost) (2024.2)\n",
            "Requirement already satisfied: contourpy>=1.0.1 in /usr/local/lib/python3.10/dist-packages (from matplotlib->catboost) (1.3.0)\n",
            "Requirement already satisfied: cycler>=0.10 in /usr/local/lib/python3.10/dist-packages (from matplotlib->catboost) (0.12.1)\n",
            "Requirement already satisfied: fonttools>=4.22.0 in /usr/local/lib/python3.10/dist-packages (from matplotlib->catboost) (4.54.1)\n",
            "Requirement already satisfied: kiwisolver>=1.0.1 in /usr/local/lib/python3.10/dist-packages (from matplotlib->catboost) (1.4.7)\n",
            "Requirement already satisfied: packaging>=20.0 in /usr/local/lib/python3.10/dist-packages (from matplotlib->catboost) (24.1)\n",
            "Requirement already satisfied: pillow>=6.2.0 in /usr/local/lib/python3.10/dist-packages (from matplotlib->catboost) (10.4.0)\n",
            "Requirement already satisfied: pyparsing>=2.3.1 in /usr/local/lib/python3.10/dist-packages (from matplotlib->catboost) (3.1.4)\n",
            "Requirement already satisfied: tenacity>=6.2.0 in /usr/local/lib/python3.10/dist-packages (from plotly->catboost) (9.0.0)\n"
          ]
        }
      ],
      "source": [
        "#!pip install -U scikit-learn==1.5.1\n",
        "#!pip install numpy==2.1.0\n",
        "\n",
        "#!pip uninstall -y numpy scikit-learn scipy\n",
        "#!pip install numpy==1.24.3 scikit-learn==1.5.1 scipy==1.10.1\n",
        "\n",
        "\n",
        "import sklearn\n",
        "print(sklearn.__version__)\n",
        "import pandas as pd\n",
        "import seaborn as sns\n",
        "import matplotlib.pyplot as plt\n",
        "from sklearn.preprocessing import StandardScaler\n",
        "from sklearn.metrics import accuracy_score, classification_report\n",
        "from sklearn.metrics import mean_squared_error\n",
        "from sklearn.model_selection import train_test_split\n",
        "from sklearn.metrics import f1_score, mean_squared_error\n",
        "import numpy as np\n",
        "import tensorflow as tf\n",
        "from sklearn.preprocessing import MinMaxScaler, StandardScaler\n",
        "from sklearn.model_selection import train_test_split, GridSearchCV, RandomizedSearchCV\n",
        "from sklearn.linear_model import Lasso\n",
        "!pip install catboost\n",
        "import catboost as cb\n",
        "import pickle\n",
        "\n",
        "import matplotlib.pyplot as plt"
      ]
    },
    {
      "cell_type": "markdown",
      "metadata": {
        "id": "G6eBr-Xu6sVq"
      },
      "source": [
        "# Lectura dataset"
      ]
    },
    {
      "cell_type": "code",
      "execution_count": 2110,
      "metadata": {
        "id": "5105fFiR6xIg"
      },
      "outputs": [],
      "source": [
        "archivo = \"inmuebles_sin_CABA.csv\""
      ]
    },
    {
      "cell_type": "code",
      "execution_count": 2111,
      "metadata": {
        "colab": {
          "base_uri": "https://localhost:8080/"
        },
        "id": "YDSV7n4s6y8z",
        "outputId": "175e5ef7-ce0e-4784-e9d3-c987b71e8ade"
      },
      "outputs": [
        {
          "name": "stderr",
          "output_type": "stream",
          "text": [
            "<ipython-input-2111-4c33c5f48d76>:1: DtypeWarning: Columns (4,5,34) have mixed types. Specify dtype option on import or set low_memory=False.\n",
            "  df_inmuebles = pd.read_csv(archivo)\n"
          ]
        }
      ],
      "source": [
        "df_inmuebles = pd.read_csv(archivo)"
      ]
    },
    {
      "cell_type": "markdown",
      "metadata": {
        "id": "06dvsYg57Eem"
      },
      "source": [
        "# ANALISIS EXPLORATORIO"
      ]
    },
    {
      "cell_type": "markdown",
      "metadata": {
        "id": "TRgNGm_Z7R2X"
      },
      "source": [
        "## Elimino duplicados y columnas innecesarias"
      ]
    },
    {
      "cell_type": "code",
      "execution_count": 2112,
      "metadata": {
        "id": "TqJkjoon7UrC"
      },
      "outputs": [],
      "source": [
        "df_inmuebles.drop_duplicates(inplace=True)\n",
        "df_inmuebles = df_inmuebles.drop(['expensas', 'direccion','disposicion','orientacion','luminosidad','cancha_deportes','lavavajillas','estado_general','amoblado.1','internet','laundry', 'lavadero', 'lavarropas', 'secarropas','cocina_equipada', 'frigobar', 'microondas','ascensor','sala_de_juegos','solarium','apto_profesional','dependencia_servicio','dormitorio_en_suite','jardin','quincho','sum','sauna','lavadero','balcon','patio','terraza','parrilla','gimnasio','hidromasaje','uso_comercial','acceso_movilidad_reducida','servicio_de_limpieza','termotanque','amoblado'], axis=1)\n",
        "df_inmuebles = df_inmuebles.dropna(subset=['precio'])"
      ]
    },
    {
      "cell_type": "markdown",
      "metadata": {
        "id": "uHq1pOT-NvbS"
      },
      "source": [
        "## Conversion de divisas (USD)"
      ]
    },
    {
      "cell_type": "code",
      "execution_count": 2113,
      "metadata": {
        "id": "kd8_C_hUPcJE"
      },
      "outputs": [],
      "source": [
        "valor_dolar = 1000"
      ]
    },
    {
      "cell_type": "markdown",
      "metadata": {
        "id": "jIiF93_hN7Mm"
      },
      "source": [
        "### Operaciones en dolares"
      ]
    },
    {
      "cell_type": "markdown",
      "metadata": {
        "id": "bl8KCDKCOdFB"
      },
      "source": [
        "#### Precio"
      ]
    },
    {
      "cell_type": "code",
      "execution_count": 2114,
      "metadata": {
        "id": "waDBrsJRIDQb"
      },
      "outputs": [],
      "source": [
        "df_usd = df_inmuebles[df_inmuebles['precio'].str.contains('^USD', regex=True)]"
      ]
    },
    {
      "cell_type": "code",
      "execution_count": 2115,
      "metadata": {
        "id": "wgdlfNiBLpGm"
      },
      "outputs": [],
      "source": [
        "df_usd.loc[:, 'precio'] = df_usd['precio'].str.replace('USD', '').str.replace('.', '').astype(float)"
      ]
    },
    {
      "cell_type": "markdown",
      "metadata": {
        "id": "jY189aqHOIw1"
      },
      "source": [
        "### Operaciones en pesos"
      ]
    },
    {
      "cell_type": "markdown",
      "metadata": {
        "id": "wA8O9aZZR9Qd"
      },
      "source": [
        "#### Precio"
      ]
    },
    {
      "cell_type": "code",
      "execution_count": 2116,
      "metadata": {
        "id": "OO3BTQnRIbyX"
      },
      "outputs": [],
      "source": [
        "df_ars = df_inmuebles[df_inmuebles['precio'].str.contains('^\\$', regex=True)]"
      ]
    },
    {
      "cell_type": "code",
      "execution_count": 2117,
      "metadata": {
        "id": "uqxR4tqyK8HM"
      },
      "outputs": [],
      "source": [
        "df_dolarizado = df_ars.copy()\n",
        "df_dolarizado['precio'] = df_dolarizado['precio'].str.replace('$', '').str.replace('.', '')\n",
        "\n",
        "def es_float(valor):\n",
        "    try:\n",
        "        float(valor)\n",
        "        return True\n",
        "    except ValueError:\n",
        "        return False\n"
      ]
    },
    {
      "cell_type": "markdown",
      "metadata": {
        "id": "21ik-xNl_5Cg"
      },
      "source": [
        "### Operaciones en otras divisas"
      ]
    },
    {
      "cell_type": "code",
      "execution_count": 2118,
      "metadata": {
        "id": "56yGHNXlAcwx"
      },
      "outputs": [],
      "source": [
        "# Elimino aquellos registros que no se puedan castear. Por ejemplo si incluyen otro simbolo de otra moneda.\n",
        "df_dolarizado = df_dolarizado[df_dolarizado['precio'].apply(es_float)]\n",
        "\n",
        "df_dolarizado['precio'] = df_dolarizado['precio'].astype(float)\n",
        "\n",
        "df_dolarizado['precio'] = df_dolarizado['precio'] / valor_dolar"
      ]
    },
    {
      "cell_type": "markdown",
      "metadata": {
        "id": "qqimgoUCTrex"
      },
      "source": [
        "### Concateno los datasets"
      ]
    },
    {
      "cell_type": "code",
      "execution_count": 2119,
      "metadata": {
        "id": "m9mw9SY6S8uz"
      },
      "outputs": [],
      "source": [
        "df_inmuebles = pd.concat([df_usd, df_dolarizado], axis=0)"
      ]
    },
    {
      "cell_type": "markdown",
      "metadata": {
        "id": "ASK59GumCOGb"
      },
      "source": [
        "## Casteo tipo de datos"
      ]
    },
    {
      "cell_type": "code",
      "execution_count": 2120,
      "metadata": {
        "id": "zAtHcRlWCQt1"
      },
      "outputs": [],
      "source": [
        "columnas_a_convertir = [\n",
        "    'cantidad_de_toiletes', 'cantidad_de_cocheras', 'cantidad_de_dormitorios',\n",
        "    'cantidad_de_banios', 'superficie_total', 'superficie_cubierta', 'cantidad_de_ambiente', 'precio'\n",
        "]\n",
        "\n",
        "for col in columnas_a_convertir:\n",
        "    df_inmuebles[col] = pd.to_numeric(df_inmuebles[col], errors='coerce').fillna(0).astype('int64')"
      ]
    },
    {
      "cell_type": "markdown",
      "metadata": {
        "id": "qi1hj3SHC4iq"
      },
      "source": [
        "## Unifico baños y toiletes"
      ]
    },
    {
      "cell_type": "code",
      "execution_count": 2121,
      "metadata": {
        "id": "iAtqgXyhC7P5"
      },
      "outputs": [],
      "source": [
        "df_inmuebles['banios'] = df_inmuebles['cantidad_de_banios'] + (df_inmuebles['cantidad_de_toiletes'] / 2)"
      ]
    },
    {
      "cell_type": "code",
      "execution_count": 2122,
      "metadata": {
        "id": "L-LPCPPuDJmP"
      },
      "outputs": [],
      "source": [
        "df_inmuebles = df_inmuebles.drop(['cantidad_de_banios', 'cantidad_de_toiletes'], axis=1)"
      ]
    },
    {
      "cell_type": "markdown",
      "metadata": {
        "id": "tqu_012N9Ii_"
      },
      "source": [
        "## Elimino filas con faltantes requeridos"
      ]
    },
    {
      "cell_type": "code",
      "execution_count": 2123,
      "metadata": {
        "id": "CPp6CJ3n9ZfG"
      },
      "outputs": [],
      "source": [
        "df_inmuebles = df_inmuebles.dropna(subset=['localidad'])\n",
        "\n",
        "columnas_a_validar = ['precio','cantidad_de_ambiente']\n",
        "\n",
        "for columna in columnas_a_validar:\n",
        "  df_inmuebles = df_inmuebles[df_inmuebles[columna] > 0]"
      ]
    },
    {
      "cell_type": "markdown",
      "metadata": {
        "id": "xZd8f8BLZL_x"
      },
      "source": [
        "### Superficie total y superficie cubierta"
      ]
    },
    {
      "cell_type": "code",
      "execution_count": 2124,
      "metadata": {
        "id": "JDpzyT43ZOtZ"
      },
      "outputs": [],
      "source": [
        "df_inmuebles.loc[(df_inmuebles['superficie_total'] == 0) & (df_inmuebles['superficie_cubierta'] > 0), 'superficie_total'] = df_inmuebles['superficie_cubierta']\n",
        "\n",
        "df_inmuebles.loc[(df_inmuebles['superficie_cubierta'] == 0) & (df_inmuebles['superficie_total'] > 0), 'superficie_cubierta'] = df_inmuebles['superficie_total']\n",
        "\n",
        "df_inmuebles = df_inmuebles[~((df_inmuebles['superficie_total'] == 0) & (df_inmuebles['superficie_cubierta'] == 0))]"
      ]
    },
    {
      "cell_type": "markdown",
      "metadata": {
        "id": "cvwCittRJPUf"
      },
      "source": [
        "## Remplazo los booleanos"
      ]
    },
    {
      "cell_type": "code",
      "execution_count": 2125,
      "metadata": {
        "id": "k7SEqGIpJS2p"
      },
      "outputs": [],
      "source": [
        "object_columns = df_inmuebles.select_dtypes(include=['object']).columns\n",
        "df_inmuebles[object_columns] = df_inmuebles[object_columns].astype(str)\n",
        "\n",
        "columnas = ['aire_acondicionado','alarma','caldera','calefacción','vigilancia','caja_fuerte','permite_mascotas','pileta']\n",
        "\n",
        "for columna in columnas:\n",
        "  df_inmuebles[columna] = (df_inmuebles[columna] == 'True').astype(int)"
      ]
    },
    {
      "cell_type": "markdown",
      "metadata": {
        "id": "7a3jcqhfItk4"
      },
      "source": [
        "## Unifico seguridad"
      ]
    },
    {
      "cell_type": "code",
      "execution_count": 2126,
      "metadata": {
        "id": "mIbjnMkgIwUG"
      },
      "outputs": [],
      "source": [
        "df_inmuebles[['vigilancia', 'caja_fuerte', 'alarma']] = df_inmuebles[['vigilancia', 'caja_fuerte', 'alarma']].astype(float)\n",
        "df_inmuebles = df_inmuebles.fillna(0)\n",
        "df_inmuebles['seguridad'] = df_inmuebles['vigilancia']*0.75 + df_inmuebles['caja_fuerte']*0.1 + df_inmuebles['alarma']*0.5\n",
        "df_inmuebles = df_inmuebles.drop(['vigilancia', 'caja_fuerte','alarma'], axis=1)"
      ]
    },
    {
      "cell_type": "markdown",
      "metadata": {
        "id": "n7MIgv_vScey"
      },
      "source": [
        "## Unifico calefaccion"
      ]
    },
    {
      "cell_type": "code",
      "execution_count": 2127,
      "metadata": {
        "id": "5Q70xQNrSens"
      },
      "outputs": [],
      "source": [
        "df_inmuebles[['aire_acondicionado', 'caldera', 'calefacción']] = df_inmuebles[['aire_acondicionado', 'caldera', 'calefacción']].astype(float)\n",
        "df_inmuebles = df_inmuebles.fillna(0)\n",
        "df_inmuebles['climatizacion'] = df_inmuebles['aire_acondicionado']*0.5 + df_inmuebles['caldera']*0.33 + df_inmuebles['calefacción']*0.33\n",
        "df_inmuebles = df_inmuebles.drop(['aire_acondicionado', 'caldera', 'calefacción'], axis=1)"
      ]
    },
    {
      "cell_type": "markdown",
      "metadata": {
        "id": "x3IVoBRzQhmQ"
      },
      "source": [
        "## Arreglo error cantidad de dormitorios"
      ]
    },
    {
      "cell_type": "code",
      "execution_count": 2128,
      "metadata": {
        "id": "prg_rWcNQlRl"
      },
      "outputs": [],
      "source": [
        "df_inmuebles['cantidad_de_dormitorios'] = df_inmuebles['cantidad_de_dormitorios'].apply(lambda x: x + 1 if x == 0 else x)"
      ]
    },
    {
      "cell_type": "markdown",
      "metadata": {
        "id": "aJGu_lYEUbPs"
      },
      "source": [
        "## Modifico antiguedad"
      ]
    },
    {
      "cell_type": "code",
      "execution_count": 2129,
      "metadata": {
        "id": "YU8rQe6sUdQN"
      },
      "outputs": [],
      "source": [
        "df_inmuebles['antiguedad'] = df_inmuebles['antiguedad'].str.extract(r'(\\d+)', expand=False)\n",
        "df_inmuebles['antiguedad'] = pd.to_numeric(df_inmuebles['antiguedad']).fillna(0).astype(int)"
      ]
    },
    {
      "cell_type": "markdown",
      "metadata": {
        "id": "QcNnXHMLUt4M"
      },
      "source": [
        "## Agrego el precio por m2"
      ]
    },
    {
      "cell_type": "code",
      "execution_count": 2130,
      "metadata": {
        "id": "GtFKwetGUwAk"
      },
      "outputs": [],
      "source": [
        "df_inmuebles['precio_m2'] = df_inmuebles['precio'] / df_inmuebles['superficie_total']"
      ]
    },
    {
      "cell_type": "markdown",
      "metadata": {
        "id": "og8S5hUCU0cE"
      },
      "source": [
        "## Agrego el precio por m2 cubierto"
      ]
    },
    {
      "cell_type": "code",
      "execution_count": 2131,
      "metadata": {
        "id": "uwJ7nxkzU3vJ"
      },
      "outputs": [],
      "source": [
        "df_inmuebles['precio_m2_cubierto'] = df_inmuebles['precio'] / df_inmuebles['superficie_cubierta']"
      ]
    },
    {
      "cell_type": "markdown",
      "metadata": {
        "id": "Zm0HuwU-V4O2"
      },
      "source": [
        "## Agrego precio m2 medio por localidad"
      ]
    },
    {
      "cell_type": "code",
      "execution_count": 2132,
      "metadata": {
        "id": "eSNT88ZDV7M2"
      },
      "outputs": [],
      "source": [
        "mean_encoded = df_inmuebles.groupby('localidad')['precio_m2'].mean()\n",
        "df_inmuebles['precio_m2_medio'] = df_inmuebles['localidad'].map(mean_encoded)"
      ]
    },
    {
      "cell_type": "markdown",
      "metadata": {
        "id": "E-Emky6oWBHO"
      },
      "source": [
        "## Agrego precio m2 cubierto medio por localidad"
      ]
    },
    {
      "cell_type": "code",
      "execution_count": 2133,
      "metadata": {
        "id": "HeTH-RPvWFM-"
      },
      "outputs": [],
      "source": [
        "mean_encoded = df_inmuebles.groupby('localidad')['precio_m2_cubierto'].mean()\n",
        "df_inmuebles['precio_m2_cubierto_medio'] = df_inmuebles['localidad'].map(mean_encoded)"
      ]
    },
    {
      "cell_type": "markdown",
      "metadata": {
        "id": "MTHPDRDLWRsa"
      },
      "source": [
        "## Agrego precio medio localidad"
      ]
    },
    {
      "cell_type": "code",
      "execution_count": 2134,
      "metadata": {
        "id": "5WzZ2k0lWUkR"
      },
      "outputs": [],
      "source": [
        "mean_encoded = df_inmuebles.groupby('localidad')['precio'].mean()\n",
        "df_inmuebles['precio_medio'] = df_inmuebles['localidad'].map(mean_encoded)"
      ]
    },
    {
      "cell_type": "markdown",
      "metadata": {
        "id": "mguBzMN7Wf4j"
      },
      "source": [
        "## Agrego precio m2 medio por provincia"
      ]
    },
    {
      "cell_type": "code",
      "execution_count": 2135,
      "metadata": {
        "id": "UgKFUhRqWf4k"
      },
      "outputs": [],
      "source": [
        "mean_encoded = df_inmuebles.groupby('provincia')['precio_m2'].mean()\n",
        "df_inmuebles['precio_m2_medio_prov'] = df_inmuebles['provincia'].map(mean_encoded)"
      ]
    },
    {
      "cell_type": "markdown",
      "metadata": {
        "id": "xxUP8N_vWf4k"
      },
      "source": [
        "## Agrego precio m2 cubierto medio por provincia"
      ]
    },
    {
      "cell_type": "code",
      "execution_count": 2136,
      "metadata": {
        "id": "52KamUx3Wf4k"
      },
      "outputs": [],
      "source": [
        "mean_encoded = df_inmuebles.groupby('provincia')['precio_m2_cubierto'].mean()\n",
        "df_inmuebles['precio_m2_cubierto_medio_prov'] = df_inmuebles['provincia'].map(mean_encoded)"
      ]
    },
    {
      "cell_type": "markdown",
      "metadata": {
        "id": "EhucZBQNWf4k"
      },
      "source": [
        "## Agrego precio medio provincia"
      ]
    },
    {
      "cell_type": "code",
      "execution_count": 2137,
      "metadata": {
        "id": "B16b96evWf4l"
      },
      "outputs": [],
      "source": [
        "mean_encoded = df_inmuebles.groupby('provincia')['precio'].mean()\n",
        "df_inmuebles['precio_medio'] = df_inmuebles['provincia'].map(mean_encoded)"
      ]
    },
    {
      "cell_type": "markdown",
      "metadata": {
        "id": "8W1GGf1maHdr"
      },
      "source": [
        "## Elimino los outliers"
      ]
    },
    {
      "cell_type": "code",
      "execution_count": 2138,
      "metadata": {
        "id": "5mNDiUzqaKtJ"
      },
      "outputs": [],
      "source": [
        "def eliminar_outliers(grupo, columna):\n",
        "      Q1 = grupo[columna].quantile(0.25)\n",
        "      Q3 = grupo[columna].quantile(0.75)\n",
        "      IQR = Q3 - Q1\n",
        "      umbral_inferior = Q1 - 1.5 * IQR\n",
        "      umbral_superior = Q3 + 1.5 * IQR\n",
        "      return grupo[(grupo[columna] >= umbral_inferior) & (grupo[columna] <= umbral_superior)]\n"
      ]
    },
    {
      "cell_type": "markdown",
      "metadata": {
        "id": "eOcCfEUfa9cj"
      },
      "source": [
        "### Precio por localidad"
      ]
    },
    {
      "cell_type": "code",
      "execution_count": 2139,
      "metadata": {
        "colab": {
          "base_uri": "https://localhost:8080/"
        },
        "id": "3o3zet6ra_po",
        "outputId": "7d2577d9-ef8e-42d1-8597-11be81c422da"
      },
      "outputs": [
        {
          "name": "stderr",
          "output_type": "stream",
          "text": [
            "<ipython-input-2139-03ccb0a4b3f2>:1: DeprecationWarning: DataFrameGroupBy.apply operated on the grouping columns. This behavior is deprecated, and in a future version of pandas the grouping columns will be excluded from the operation. Either pass `include_groups=False` to exclude the groupings or explicitly select the grouping columns after groupby to silence this warning.\n",
            "  df_inmuebles = df_inmuebles.groupby('localidad').apply(eliminar_outliers, columna='precio').reset_index(drop=True)\n"
          ]
        }
      ],
      "source": [
        "df_inmuebles = df_inmuebles.groupby('localidad').apply(eliminar_outliers, columna='precio').reset_index(drop=True)"
      ]
    },
    {
      "cell_type": "markdown",
      "metadata": {
        "id": "qgNvZ1OjbXoH"
      },
      "source": [
        "### Precio m2 por localidad"
      ]
    },
    {
      "cell_type": "code",
      "execution_count": 2140,
      "metadata": {
        "colab": {
          "base_uri": "https://localhost:8080/"
        },
        "id": "ziA2Cv7ibaAp",
        "outputId": "9a1345e9-2b6f-4100-ac6f-4a4ae14d97f2"
      },
      "outputs": [
        {
          "name": "stderr",
          "output_type": "stream",
          "text": [
            "<ipython-input-2140-13d66dfc0957>:1: DeprecationWarning: DataFrameGroupBy.apply operated on the grouping columns. This behavior is deprecated, and in a future version of pandas the grouping columns will be excluded from the operation. Either pass `include_groups=False` to exclude the groupings or explicitly select the grouping columns after groupby to silence this warning.\n",
            "  df_inmuebles = df_inmuebles.groupby('localidad').apply(eliminar_outliers, columna='precio_m2').reset_index(drop=True)\n"
          ]
        }
      ],
      "source": [
        "df_inmuebles = df_inmuebles.groupby('localidad').apply(eliminar_outliers, columna='precio_m2').reset_index(drop=True)"
      ]
    },
    {
      "cell_type": "markdown",
      "metadata": {
        "id": "MO4qJDKdfhTm"
      },
      "source": [
        "### Filtro diferencia entre precio m2 y precio m2 promedio por localidad"
      ]
    },
    {
      "cell_type": "code",
      "execution_count": 2141,
      "metadata": {
        "id": "_HMmna26fnhN"
      },
      "outputs": [],
      "source": [
        "def eliminar_filas_por_diferencia(df, col1, col2, umbral=0.60):\n",
        "    diferencia_relativa = abs(df[col1] - df[col2]) / df[col2]\n",
        "\n",
        "    df_filtrado = df[diferencia_relativa <= umbral]\n",
        "\n",
        "    return df_filtrado\n",
        "\n",
        "df_inmuebles = eliminar_filas_por_diferencia(df_inmuebles, 'precio_m2', 'precio_m2_medio')"
      ]
    },
    {
      "cell_type": "markdown",
      "metadata": {
        "id": "pZYSo6KTtv8c"
      },
      "source": [
        "## Elimino localidades poco comunes"
      ]
    },
    {
      "cell_type": "code",
      "execution_count": 2142,
      "metadata": {
        "colab": {
          "base_uri": "https://localhost:8080/"
        },
        "id": "hi8asD3bty9M",
        "outputId": "336ea81c-2dee-472e-edfe-c0389cfbd006"
      },
      "outputs": [
        {
          "name": "stdout",
          "output_type": "stream",
          "text": [
            "localidad\n",
            "Abasto, Rosario                  70\n",
            "Acqua Río, Nordelta               5\n",
            "Alberdi, Rosario                 13\n",
            "Alto Alberdi, Córdoba            25\n",
            "Alto Verde, Córdoba               4\n",
            "                                 ..\n",
            "Wilde, Avellaneda                52\n",
            "Wyndham Condominios, Nordelta     9\n",
            "Yerba Buena, Tucuman              6\n",
            "Zelaya, Pilar                     6\n",
            "Área Centro Este, Neuquén        13\n",
            "Length: 287, dtype: int64\n"
          ]
        }
      ],
      "source": [
        "conteo_por_localidad = df_inmuebles.groupby('localidad').size()\n",
        "localidades_comunes = conteo_por_localidad[conteo_por_localidad > 3]\n",
        "\n",
        "df_inmuebles = df_inmuebles[df_inmuebles['localidad'].isin(localidades_comunes.index)]"
      ]
    },
    {
      "cell_type": "markdown",
      "metadata": {
        "id": "UDFo8sREc2NQ"
      },
      "source": [
        "## Elimino localidad y provincia para correr el modelo"
      ]
    },
    {
      "cell_type": "code",
      "execution_count": 2145,
      "metadata": {
        "id": "hYIF7yR7c6L7"
      },
      "outputs": [],
      "source": [
        "df_inmuebles = df_inmuebles.drop(['localidad','provincia'], axis=1)"
      ]
    },
    {
      "cell_type": "markdown",
      "metadata": {
        "id": "AV0HEBk_-pBo"
      },
      "source": [
        "## OTRA COSA"
      ]
    },
    {
      "cell_type": "code",
      "execution_count": 2146,
      "metadata": {
        "colab": {
          "base_uri": "https://localhost:8080/",
          "height": 226
        },
        "id": "jD0ayBzA-rDK",
        "outputId": "04d31229-395f-4cb6-df0e-b5451fa50c15"
      },
      "outputs": [
        {
          "data": {
            "application/vnd.google.colaboratory.intrinsic+json": {
              "summary": "{\n  \"name\": \"df_inmuebles\",\n  \"rows\": 3894,\n  \"fields\": [\n    {\n      \"column\": \"precio\",\n      \"properties\": {\n        \"dtype\": \"number\",\n        \"std\": 6720,\n        \"min\": 30,\n        \"max\": 185000,\n        \"num_unique_values\": 247,\n        \"samples\": [\n          400,\n          130,\n          530\n        ],\n        \"semantic_type\": \"\",\n        \"description\": \"\"\n      }\n    },\n    {\n      \"column\": \"superficie_total\",\n      \"properties\": {\n        \"dtype\": \"number\",\n        \"std\": 401,\n        \"min\": 10,\n        \"max\": 10376,\n        \"num_unique_values\": 495,\n        \"samples\": [\n          1091,\n          204,\n          1119\n        ],\n        \"semantic_type\": \"\",\n        \"description\": \"\"\n      }\n    },\n    {\n      \"column\": \"superficie_cubierta\",\n      \"properties\": {\n        \"dtype\": \"number\",\n        \"std\": 124,\n        \"min\": 1,\n        \"max\": 1500,\n        \"num_unique_values\": 347,\n        \"samples\": [\n          430,\n          393,\n          263\n        ],\n        \"semantic_type\": \"\",\n        \"description\": \"\"\n      }\n    },\n    {\n      \"column\": \"cantidad_de_ambiente\",\n      \"properties\": {\n        \"dtype\": \"number\",\n        \"std\": 1,\n        \"min\": 1,\n        \"max\": 25,\n        \"num_unique_values\": 18,\n        \"samples\": [\n          1,\n          2,\n          8\n        ],\n        \"semantic_type\": \"\",\n        \"description\": \"\"\n      }\n    },\n    {\n      \"column\": \"cantidad_de_dormitorios\",\n      \"properties\": {\n        \"dtype\": \"number\",\n        \"std\": 1,\n        \"min\": 1,\n        \"max\": 8,\n        \"num_unique_values\": 8,\n        \"samples\": [\n          2,\n          6,\n          1\n        ],\n        \"semantic_type\": \"\",\n        \"description\": \"\"\n      }\n    },\n    {\n      \"column\": \"antiguedad\",\n      \"properties\": {\n        \"dtype\": \"number\",\n        \"std\": 34,\n        \"min\": 0,\n        \"max\": 2014,\n        \"num_unique_values\": 61,\n        \"samples\": [\n          0,\n          38,\n          44\n        ],\n        \"semantic_type\": \"\",\n        \"description\": \"\"\n      }\n    },\n    {\n      \"column\": \"cantidad_de_cocheras\",\n      \"properties\": {\n        \"dtype\": \"number\",\n        \"std\": 1,\n        \"min\": 0,\n        \"max\": 32,\n        \"num_unique_values\": 11,\n        \"samples\": [\n          4,\n          1,\n          32\n        ],\n        \"semantic_type\": \"\",\n        \"description\": \"\"\n      }\n    },\n    {\n      \"column\": \"permite_mascotas\",\n      \"properties\": {\n        \"dtype\": \"number\",\n        \"std\": 0,\n        \"min\": 0,\n        \"max\": 1,\n        \"num_unique_values\": 2,\n        \"samples\": [\n          1,\n          0\n        ],\n        \"semantic_type\": \"\",\n        \"description\": \"\"\n      }\n    },\n    {\n      \"column\": \"pileta\",\n      \"properties\": {\n        \"dtype\": \"number\",\n        \"std\": 0,\n        \"min\": 0,\n        \"max\": 1,\n        \"num_unique_values\": 2,\n        \"samples\": [\n          1,\n          0\n        ],\n        \"semantic_type\": \"\",\n        \"description\": \"\"\n      }\n    },\n    {\n      \"column\": \"banios\",\n      \"properties\": {\n        \"dtype\": \"number\",\n        \"std\": 1.2650023517755626,\n        \"min\": 0.0,\n        \"max\": 8.0,\n        \"num_unique_values\": 17,\n        \"samples\": [\n          0.0,\n          1.0\n        ],\n        \"semantic_type\": \"\",\n        \"description\": \"\"\n      }\n    },\n    {\n      \"column\": \"seguridad\",\n      \"properties\": {\n        \"dtype\": \"number\",\n        \"std\": 0.3412621616889965,\n        \"min\": 0.0,\n        \"max\": 1.35,\n        \"num_unique_values\": 8,\n        \"samples\": [\n          0.5,\n          1.35\n        ],\n        \"semantic_type\": \"\",\n        \"description\": \"\"\n      }\n    },\n    {\n      \"column\": \"climatizacion\",\n      \"properties\": {\n        \"dtype\": \"number\",\n        \"std\": 0.3040865793846989,\n        \"min\": 0.0,\n        \"max\": 1.1600000000000001,\n        \"num_unique_values\": 6,\n        \"samples\": [\n          0.0,\n          0.8300000000000001\n        ],\n        \"semantic_type\": \"\",\n        \"description\": \"\"\n      }\n    },\n    {\n      \"column\": \"precio_m2\",\n      \"properties\": {\n        \"dtype\": \"number\",\n        \"std\": 72.69952174633559,\n        \"min\": 0.13472222222222222,\n        \"max\": 1715.5,\n        \"num_unique_values\": 1455,\n        \"samples\": [\n          1.3784461152882206,\n          1709.5438596491229\n        ],\n        \"semantic_type\": \"\",\n        \"description\": \"\"\n      }\n    },\n    {\n      \"column\": \"precio_m2_cubierto\",\n      \"properties\": {\n        \"dtype\": \"number\",\n        \"std\": 80.40276559056709,\n        \"min\": 0.92,\n        \"max\": 2102.8709677419356,\n        \"num_unique_values\": 1277,\n        \"samples\": [\n          7.2631578947368425,\n          15.6\n        ],\n        \"semantic_type\": \"\",\n        \"description\": \"\"\n      }\n    },\n    {\n      \"column\": \"precio_m2_medio\",\n      \"properties\": {\n        \"dtype\": \"number\",\n        \"std\": 63.29853438289887,\n        \"min\": 0.22500973954876619,\n        \"max\": 1487.0988708545383,\n        \"num_unique_values\": 287,\n        \"samples\": [\n          3.938487645600405,\n          8.3456766951752\n        ],\n        \"semantic_type\": \"\",\n        \"description\": \"\"\n      }\n    },\n    {\n      \"column\": \"precio_m2_cubierto_medio\",\n      \"properties\": {\n        \"dtype\": \"number\",\n        \"std\": 67.18025717467309,\n        \"min\": 1.0240540558475342,\n        \"max\": 1535.5202418222802,\n        \"num_unique_values\": 287,\n        \"samples\": [\n          5.3415742294174775,\n          8.828491182384797\n        ],\n        \"semantic_type\": \"\",\n        \"description\": \"\"\n      }\n    },\n    {\n      \"column\": \"precio_medio\",\n      \"properties\": {\n        \"dtype\": \"number\",\n        \"std\": 7731.312092315343,\n        \"min\": 335.90909090909093,\n        \"max\": 20725.79965979966,\n        \"num_unique_values\": 15,\n        \"samples\": [\n          18826.222222222223,\n          924.546875\n        ],\n        \"semantic_type\": \"\",\n        \"description\": \"\"\n      }\n    },\n    {\n      \"column\": \"precio_m2_medio_prov\",\n      \"properties\": {\n        \"dtype\": \"number\",\n        \"std\": 89.52517191444035,\n        \"min\": 3.173469686222315,\n        \"max\": 331.47568796970086,\n        \"num_unique_values\": 15,\n        \"samples\": [\n          331.47568796970086,\n          20.865564285043494\n        ],\n        \"semantic_type\": \"\",\n        \"description\": \"\"\n      }\n    },\n    {\n      \"column\": \"precio_m2_cubierto_medio_prov\",\n      \"properties\": {\n        \"dtype\": \"number\",\n        \"std\": 171.0403966277819,\n        \"min\": 4.60134643635464,\n        \"max\": 435.193079064893,\n        \"num_unique_values\": 15,\n        \"samples\": [\n          342.5948627563713,\n          22.171698834878292\n        ],\n        \"semantic_type\": \"\",\n        \"description\": \"\"\n      }\n    }\n  ]\n}",
              "type": "dataframe",
              "variable_name": "df_inmuebles"
            },
            "text/html": [
              "\n",
              "  <div id=\"df-642c98de-e01c-453c-b148-ff6d265c1041\" class=\"colab-df-container\">\n",
              "    <div>\n",
              "<style scoped>\n",
              "    .dataframe tbody tr th:only-of-type {\n",
              "        vertical-align: middle;\n",
              "    }\n",
              "\n",
              "    .dataframe tbody tr th {\n",
              "        vertical-align: top;\n",
              "    }\n",
              "\n",
              "    .dataframe thead th {\n",
              "        text-align: right;\n",
              "    }\n",
              "</style>\n",
              "<table border=\"1\" class=\"dataframe\">\n",
              "  <thead>\n",
              "    <tr style=\"text-align: right;\">\n",
              "      <th></th>\n",
              "      <th>precio</th>\n",
              "      <th>superficie_total</th>\n",
              "      <th>superficie_cubierta</th>\n",
              "      <th>cantidad_de_ambiente</th>\n",
              "      <th>cantidad_de_dormitorios</th>\n",
              "      <th>antiguedad</th>\n",
              "      <th>cantidad_de_cocheras</th>\n",
              "      <th>permite_mascotas</th>\n",
              "      <th>pileta</th>\n",
              "      <th>banios</th>\n",
              "      <th>seguridad</th>\n",
              "      <th>climatizacion</th>\n",
              "      <th>precio_m2</th>\n",
              "      <th>precio_m2_cubierto</th>\n",
              "      <th>precio_m2_medio</th>\n",
              "      <th>precio_m2_cubierto_medio</th>\n",
              "      <th>precio_medio</th>\n",
              "      <th>precio_m2_medio_prov</th>\n",
              "      <th>precio_m2_cubierto_medio_prov</th>\n",
              "    </tr>\n",
              "  </thead>\n",
              "  <tbody>\n",
              "    <tr>\n",
              "      <th>10</th>\n",
              "      <td>30</td>\n",
              "      <td>12</td>\n",
              "      <td>12</td>\n",
              "      <td>1</td>\n",
              "      <td>1</td>\n",
              "      <td>0</td>\n",
              "      <td>1</td>\n",
              "      <td>0</td>\n",
              "      <td>0</td>\n",
              "      <td>0.0</td>\n",
              "      <td>0.0</td>\n",
              "      <td>0.0</td>\n",
              "      <td>2.500000</td>\n",
              "      <td>2.500000</td>\n",
              "      <td>4.688729</td>\n",
              "      <td>5.0886</td>\n",
              "      <td>1930.604058</td>\n",
              "      <td>21.379866</td>\n",
              "      <td>24.108624</td>\n",
              "    </tr>\n",
              "    <tr>\n",
              "      <th>11</th>\n",
              "      <td>35</td>\n",
              "      <td>15</td>\n",
              "      <td>15</td>\n",
              "      <td>1</td>\n",
              "      <td>1</td>\n",
              "      <td>0</td>\n",
              "      <td>1</td>\n",
              "      <td>0</td>\n",
              "      <td>0</td>\n",
              "      <td>0.0</td>\n",
              "      <td>0.0</td>\n",
              "      <td>0.0</td>\n",
              "      <td>2.333333</td>\n",
              "      <td>2.333333</td>\n",
              "      <td>4.688729</td>\n",
              "      <td>5.0886</td>\n",
              "      <td>1930.604058</td>\n",
              "      <td>21.379866</td>\n",
              "      <td>24.108624</td>\n",
              "    </tr>\n",
              "    <tr>\n",
              "      <th>12</th>\n",
              "      <td>35</td>\n",
              "      <td>15</td>\n",
              "      <td>15</td>\n",
              "      <td>1</td>\n",
              "      <td>1</td>\n",
              "      <td>0</td>\n",
              "      <td>1</td>\n",
              "      <td>0</td>\n",
              "      <td>0</td>\n",
              "      <td>0.0</td>\n",
              "      <td>0.0</td>\n",
              "      <td>0.0</td>\n",
              "      <td>2.333333</td>\n",
              "      <td>2.333333</td>\n",
              "      <td>4.688729</td>\n",
              "      <td>5.0886</td>\n",
              "      <td>1930.604058</td>\n",
              "      <td>21.379866</td>\n",
              "      <td>24.108624</td>\n",
              "    </tr>\n",
              "    <tr>\n",
              "      <th>13</th>\n",
              "      <td>75</td>\n",
              "      <td>25</td>\n",
              "      <td>25</td>\n",
              "      <td>1</td>\n",
              "      <td>1</td>\n",
              "      <td>8</td>\n",
              "      <td>0</td>\n",
              "      <td>0</td>\n",
              "      <td>0</td>\n",
              "      <td>1.0</td>\n",
              "      <td>0.0</td>\n",
              "      <td>0.0</td>\n",
              "      <td>3.000000</td>\n",
              "      <td>3.000000</td>\n",
              "      <td>4.688729</td>\n",
              "      <td>5.0886</td>\n",
              "      <td>1930.604058</td>\n",
              "      <td>21.379866</td>\n",
              "      <td>24.108624</td>\n",
              "    </tr>\n",
              "    <tr>\n",
              "      <th>14</th>\n",
              "      <td>95</td>\n",
              "      <td>22</td>\n",
              "      <td>22</td>\n",
              "      <td>1</td>\n",
              "      <td>1</td>\n",
              "      <td>25</td>\n",
              "      <td>0</td>\n",
              "      <td>0</td>\n",
              "      <td>0</td>\n",
              "      <td>1.0</td>\n",
              "      <td>0.0</td>\n",
              "      <td>0.0</td>\n",
              "      <td>4.318182</td>\n",
              "      <td>4.318182</td>\n",
              "      <td>4.688729</td>\n",
              "      <td>5.0886</td>\n",
              "      <td>1930.604058</td>\n",
              "      <td>21.379866</td>\n",
              "      <td>24.108624</td>\n",
              "    </tr>\n",
              "  </tbody>\n",
              "</table>\n",
              "</div>\n",
              "    <div class=\"colab-df-buttons\">\n",
              "\n",
              "  <div class=\"colab-df-container\">\n",
              "    <button class=\"colab-df-convert\" onclick=\"convertToInteractive('df-642c98de-e01c-453c-b148-ff6d265c1041')\"\n",
              "            title=\"Convert this dataframe to an interactive table.\"\n",
              "            style=\"display:none;\">\n",
              "\n",
              "  <svg xmlns=\"http://www.w3.org/2000/svg\" height=\"24px\" viewBox=\"0 -960 960 960\">\n",
              "    <path d=\"M120-120v-720h720v720H120Zm60-500h600v-160H180v160Zm220 220h160v-160H400v160Zm0 220h160v-160H400v160ZM180-400h160v-160H180v160Zm440 0h160v-160H620v160ZM180-180h160v-160H180v160Zm440 0h160v-160H620v160Z\"/>\n",
              "  </svg>\n",
              "    </button>\n",
              "\n",
              "  <style>\n",
              "    .colab-df-container {\n",
              "      display:flex;\n",
              "      gap: 12px;\n",
              "    }\n",
              "\n",
              "    .colab-df-convert {\n",
              "      background-color: #E8F0FE;\n",
              "      border: none;\n",
              "      border-radius: 50%;\n",
              "      cursor: pointer;\n",
              "      display: none;\n",
              "      fill: #1967D2;\n",
              "      height: 32px;\n",
              "      padding: 0 0 0 0;\n",
              "      width: 32px;\n",
              "    }\n",
              "\n",
              "    .colab-df-convert:hover {\n",
              "      background-color: #E2EBFA;\n",
              "      box-shadow: 0px 1px 2px rgba(60, 64, 67, 0.3), 0px 1px 3px 1px rgba(60, 64, 67, 0.15);\n",
              "      fill: #174EA6;\n",
              "    }\n",
              "\n",
              "    .colab-df-buttons div {\n",
              "      margin-bottom: 4px;\n",
              "    }\n",
              "\n",
              "    [theme=dark] .colab-df-convert {\n",
              "      background-color: #3B4455;\n",
              "      fill: #D2E3FC;\n",
              "    }\n",
              "\n",
              "    [theme=dark] .colab-df-convert:hover {\n",
              "      background-color: #434B5C;\n",
              "      box-shadow: 0px 1px 3px 1px rgba(0, 0, 0, 0.15);\n",
              "      filter: drop-shadow(0px 1px 2px rgba(0, 0, 0, 0.3));\n",
              "      fill: #FFFFFF;\n",
              "    }\n",
              "  </style>\n",
              "\n",
              "    <script>\n",
              "      const buttonEl =\n",
              "        document.querySelector('#df-642c98de-e01c-453c-b148-ff6d265c1041 button.colab-df-convert');\n",
              "      buttonEl.style.display =\n",
              "        google.colab.kernel.accessAllowed ? 'block' : 'none';\n",
              "\n",
              "      async function convertToInteractive(key) {\n",
              "        const element = document.querySelector('#df-642c98de-e01c-453c-b148-ff6d265c1041');\n",
              "        const dataTable =\n",
              "          await google.colab.kernel.invokeFunction('convertToInteractive',\n",
              "                                                    [key], {});\n",
              "        if (!dataTable) return;\n",
              "\n",
              "        const docLinkHtml = 'Like what you see? Visit the ' +\n",
              "          '<a target=\"_blank\" href=https://colab.research.google.com/notebooks/data_table.ipynb>data table notebook</a>'\n",
              "          + ' to learn more about interactive tables.';\n",
              "        element.innerHTML = '';\n",
              "        dataTable['output_type'] = 'display_data';\n",
              "        await google.colab.output.renderOutput(dataTable, element);\n",
              "        const docLink = document.createElement('div');\n",
              "        docLink.innerHTML = docLinkHtml;\n",
              "        element.appendChild(docLink);\n",
              "      }\n",
              "    </script>\n",
              "  </div>\n",
              "\n",
              "\n",
              "<div id=\"df-8a1cf10d-5a31-4681-8071-d10fbabc28a5\">\n",
              "  <button class=\"colab-df-quickchart\" onclick=\"quickchart('df-8a1cf10d-5a31-4681-8071-d10fbabc28a5')\"\n",
              "            title=\"Suggest charts\"\n",
              "            style=\"display:none;\">\n",
              "\n",
              "<svg xmlns=\"http://www.w3.org/2000/svg\" height=\"24px\"viewBox=\"0 0 24 24\"\n",
              "     width=\"24px\">\n",
              "    <g>\n",
              "        <path d=\"M19 3H5c-1.1 0-2 .9-2 2v14c0 1.1.9 2 2 2h14c1.1 0 2-.9 2-2V5c0-1.1-.9-2-2-2zM9 17H7v-7h2v7zm4 0h-2V7h2v10zm4 0h-2v-4h2v4z\"/>\n",
              "    </g>\n",
              "</svg>\n",
              "  </button>\n",
              "\n",
              "<style>\n",
              "  .colab-df-quickchart {\n",
              "      --bg-color: #E8F0FE;\n",
              "      --fill-color: #1967D2;\n",
              "      --hover-bg-color: #E2EBFA;\n",
              "      --hover-fill-color: #174EA6;\n",
              "      --disabled-fill-color: #AAA;\n",
              "      --disabled-bg-color: #DDD;\n",
              "  }\n",
              "\n",
              "  [theme=dark] .colab-df-quickchart {\n",
              "      --bg-color: #3B4455;\n",
              "      --fill-color: #D2E3FC;\n",
              "      --hover-bg-color: #434B5C;\n",
              "      --hover-fill-color: #FFFFFF;\n",
              "      --disabled-bg-color: #3B4455;\n",
              "      --disabled-fill-color: #666;\n",
              "  }\n",
              "\n",
              "  .colab-df-quickchart {\n",
              "    background-color: var(--bg-color);\n",
              "    border: none;\n",
              "    border-radius: 50%;\n",
              "    cursor: pointer;\n",
              "    display: none;\n",
              "    fill: var(--fill-color);\n",
              "    height: 32px;\n",
              "    padding: 0;\n",
              "    width: 32px;\n",
              "  }\n",
              "\n",
              "  .colab-df-quickchart:hover {\n",
              "    background-color: var(--hover-bg-color);\n",
              "    box-shadow: 0 1px 2px rgba(60, 64, 67, 0.3), 0 1px 3px 1px rgba(60, 64, 67, 0.15);\n",
              "    fill: var(--button-hover-fill-color);\n",
              "  }\n",
              "\n",
              "  .colab-df-quickchart-complete:disabled,\n",
              "  .colab-df-quickchart-complete:disabled:hover {\n",
              "    background-color: var(--disabled-bg-color);\n",
              "    fill: var(--disabled-fill-color);\n",
              "    box-shadow: none;\n",
              "  }\n",
              "\n",
              "  .colab-df-spinner {\n",
              "    border: 2px solid var(--fill-color);\n",
              "    border-color: transparent;\n",
              "    border-bottom-color: var(--fill-color);\n",
              "    animation:\n",
              "      spin 1s steps(1) infinite;\n",
              "  }\n",
              "\n",
              "  @keyframes spin {\n",
              "    0% {\n",
              "      border-color: transparent;\n",
              "      border-bottom-color: var(--fill-color);\n",
              "      border-left-color: var(--fill-color);\n",
              "    }\n",
              "    20% {\n",
              "      border-color: transparent;\n",
              "      border-left-color: var(--fill-color);\n",
              "      border-top-color: var(--fill-color);\n",
              "    }\n",
              "    30% {\n",
              "      border-color: transparent;\n",
              "      border-left-color: var(--fill-color);\n",
              "      border-top-color: var(--fill-color);\n",
              "      border-right-color: var(--fill-color);\n",
              "    }\n",
              "    40% {\n",
              "      border-color: transparent;\n",
              "      border-right-color: var(--fill-color);\n",
              "      border-top-color: var(--fill-color);\n",
              "    }\n",
              "    60% {\n",
              "      border-color: transparent;\n",
              "      border-right-color: var(--fill-color);\n",
              "    }\n",
              "    80% {\n",
              "      border-color: transparent;\n",
              "      border-right-color: var(--fill-color);\n",
              "      border-bottom-color: var(--fill-color);\n",
              "    }\n",
              "    90% {\n",
              "      border-color: transparent;\n",
              "      border-bottom-color: var(--fill-color);\n",
              "    }\n",
              "  }\n",
              "</style>\n",
              "\n",
              "  <script>\n",
              "    async function quickchart(key) {\n",
              "      const quickchartButtonEl =\n",
              "        document.querySelector('#' + key + ' button');\n",
              "      quickchartButtonEl.disabled = true;  // To prevent multiple clicks.\n",
              "      quickchartButtonEl.classList.add('colab-df-spinner');\n",
              "      try {\n",
              "        const charts = await google.colab.kernel.invokeFunction(\n",
              "            'suggestCharts', [key], {});\n",
              "      } catch (error) {\n",
              "        console.error('Error during call to suggestCharts:', error);\n",
              "      }\n",
              "      quickchartButtonEl.classList.remove('colab-df-spinner');\n",
              "      quickchartButtonEl.classList.add('colab-df-quickchart-complete');\n",
              "    }\n",
              "    (() => {\n",
              "      let quickchartButtonEl =\n",
              "        document.querySelector('#df-8a1cf10d-5a31-4681-8071-d10fbabc28a5 button');\n",
              "      quickchartButtonEl.style.display =\n",
              "        google.colab.kernel.accessAllowed ? 'block' : 'none';\n",
              "    })();\n",
              "  </script>\n",
              "</div>\n",
              "\n",
              "    </div>\n",
              "  </div>\n"
            ],
            "text/plain": [
              "    precio  superficie_total  superficie_cubierta  cantidad_de_ambiente  \\\n",
              "10      30                12                   12                     1   \n",
              "11      35                15                   15                     1   \n",
              "12      35                15                   15                     1   \n",
              "13      75                25                   25                     1   \n",
              "14      95                22                   22                     1   \n",
              "\n",
              "    cantidad_de_dormitorios  antiguedad  cantidad_de_cocheras  \\\n",
              "10                        1           0                     1   \n",
              "11                        1           0                     1   \n",
              "12                        1           0                     1   \n",
              "13                        1           8                     0   \n",
              "14                        1          25                     0   \n",
              "\n",
              "    permite_mascotas  pileta  banios  seguridad  climatizacion  precio_m2  \\\n",
              "10                 0       0     0.0        0.0            0.0   2.500000   \n",
              "11                 0       0     0.0        0.0            0.0   2.333333   \n",
              "12                 0       0     0.0        0.0            0.0   2.333333   \n",
              "13                 0       0     1.0        0.0            0.0   3.000000   \n",
              "14                 0       0     1.0        0.0            0.0   4.318182   \n",
              "\n",
              "    precio_m2_cubierto  precio_m2_medio  precio_m2_cubierto_medio  \\\n",
              "10            2.500000         4.688729                    5.0886   \n",
              "11            2.333333         4.688729                    5.0886   \n",
              "12            2.333333         4.688729                    5.0886   \n",
              "13            3.000000         4.688729                    5.0886   \n",
              "14            4.318182         4.688729                    5.0886   \n",
              "\n",
              "    precio_medio  precio_m2_medio_prov  precio_m2_cubierto_medio_prov  \n",
              "10   1930.604058             21.379866                      24.108624  \n",
              "11   1930.604058             21.379866                      24.108624  \n",
              "12   1930.604058             21.379866                      24.108624  \n",
              "13   1930.604058             21.379866                      24.108624  \n",
              "14   1930.604058             21.379866                      24.108624  "
            ]
          },
          "execution_count": 2146,
          "metadata": {},
          "output_type": "execute_result"
        }
      ],
      "source": [
        "df_inmuebles.head()"
      ]
    },
    {
      "cell_type": "code",
      "execution_count": 2147,
      "metadata": {
        "colab": {
          "base_uri": "https://localhost:8080/"
        },
        "id": "jW62knZHA_xs",
        "outputId": "c7734b5c-5f68-4ad7-c516-02cc29b22195"
      },
      "outputs": [
        {
          "name": "stdout",
          "output_type": "stream",
          "text": [
            "El DataFrame tiene 3894 registros.\n"
          ]
        }
      ],
      "source": [
        "numero_de_registros = df_inmuebles.shape[0]\n",
        "\n",
        "print(\"El DataFrame tiene\", numero_de_registros, \"registros.\")"
      ]
    },
    {
      "cell_type": "markdown",
      "metadata": {
        "id": "_ewR4VxYb-E6"
      },
      "source": [
        "# Modelo"
      ]
    },
    {
      "cell_type": "code",
      "execution_count": 2150,
      "metadata": {
        "colab": {
          "base_uri": "https://localhost:8080/"
        },
        "id": "GvNp16iGb_el",
        "outputId": "2492c303-813f-40d1-de2a-a64fbbe7d12f"
      },
      "outputs": [
        {
          "name": "stdout",
          "output_type": "stream",
          "text": [
            "                          Feature  Importance\n",
            "0                superficie_total    0.815477\n",
            "1             superficie_cubierta    3.658861\n",
            "2            cantidad_de_ambiente    0.844028\n",
            "3         cantidad_de_dormitorios    0.731229\n",
            "4                      antiguedad    0.267640\n",
            "5            cantidad_de_cocheras    0.006660\n",
            "6                permite_mascotas    0.068773\n",
            "7                          pileta    0.247925\n",
            "8                          banios    1.675515\n",
            "9                       seguridad    0.047058\n",
            "10                  climatizacion    0.106456\n",
            "11                      precio_m2    7.898119\n",
            "12             precio_m2_cubierto    0.951054\n",
            "13                precio_m2_medio   57.512122\n",
            "14       precio_m2_cubierto_medio   24.581308\n",
            "15                   precio_medio    0.051484\n",
            "16           precio_m2_medio_prov    0.108766\n",
            "17  precio_m2_cubierto_medio_prov    0.427524\n",
            "0             superficie_total\n",
            "1          superficie_cubierta\n",
            "2         cantidad_de_ambiente\n",
            "3      cantidad_de_dormitorios\n",
            "8                       banios\n",
            "11                   precio_m2\n",
            "12          precio_m2_cubierto\n",
            "13             precio_m2_medio\n",
            "14    precio_m2_cubierto_medio\n",
            "Name: Feature, dtype: object\n",
            "Mean Squared Error: 3948.8025036722156\n"
          ]
        }
      ],
      "source": [
        "# Separar las características y el objetivo\n",
        "X = df_inmuebles.drop('precio', axis=1)\n",
        "y = df_inmuebles['precio']\n",
        "\n",
        "# Dividir el dataset en entrenamiento y prueba\n",
        "X_train, X_test, y_train, y_test = train_test_split(X, y, test_size=0.2, random_state=42)\n",
        "\n",
        "# Escalar las características\n",
        "scaler = StandardScaler()\n",
        "X_train = scaler.fit_transform(X_train)\n",
        "X_test = scaler.transform(X_test)\n",
        "\n",
        "\n",
        "model = cb.CatBoostRegressor(\n",
        "    iterations=1500,\n",
        "    learning_rate=0.1,\n",
        "    depth=6,\n",
        "    l2_leaf_reg=1,\n",
        "    subsample=0.7,\n",
        "    colsample_bylevel=0.7,\n",
        "    bagging_temperature=2,\n",
        "    random_strength=2,\n",
        "    verbose=0\n",
        ")\n",
        "\n",
        "model.fit(X_train, y_train)\n",
        "\n",
        "# Obtener la importancia de las características\n",
        "feature_importances = model.get_feature_importance()\n",
        "\n",
        "# Crear un DataFrame para las importancias\n",
        "importance_df = pd.DataFrame({\n",
        "    'Feature': X.columns,\n",
        "    'Importance': feature_importances\n",
        "})\n",
        "\n",
        "print(importance_df)\n",
        "\n",
        "important_features = importance_df[importance_df['Importance'] > 0.5]['Feature']\n",
        "\n",
        "print(important_features)\n",
        "\n",
        "# Filtrar las características en X\n",
        "X_filtered = df_inmuebles[important_features.tolist() + ['precio']]\n",
        "X_train_filtered = X_filtered.drop('precio', axis=1)\n",
        "y_filtered = X_filtered['precio']\n",
        "\n",
        "# Dividir el dataset filtrado en entrenamiento y prueba\n",
        "X_train, X_test, y_train, y_test = train_test_split(X_train_filtered, y_filtered, test_size=0.2, random_state=42)\n",
        "\n",
        "# Escalar las características filtradas\n",
        "X_train = scaler.fit_transform(X_train)\n",
        "X_test = scaler.transform(X_test)\n",
        "\n",
        "from joblib import dump\n",
        "\n",
        "dump(scaler, 'scaler.joblib')\n",
        "\n",
        "model_filtered = cb.CatBoostRegressor(\n",
        "    iterations=1500,\n",
        "    learning_rate=0.1,\n",
        "    depth=4,\n",
        "    l2_leaf_reg=1,\n",
        "    subsample=0.8,\n",
        "    colsample_bylevel=0.8,\n",
        "    bagging_temperature=1,\n",
        "    random_strength=1,\n",
        "    verbose=0\n",
        ")\n",
        "\n",
        "model_filtered.fit(X_train, y_train)\n",
        "\n",
        "# Hacer predicciones y evaluar el modelo\n",
        "y_pred = model_filtered.predict(X_test)\n",
        "mse = mean_squared_error(y_test, y_pred)\n",
        "print(\"Mean Squared Error:\", mse)\n",
        "\n",
        "model_filtered.save_model('modelo_filtrado.pkl')"
      ]
    },
    {
      "cell_type": "markdown",
      "metadata": {
        "id": "66jcBy3WcQXA"
      },
      "source": [
        "## Grafico de dispersion"
      ]
    },
    {
      "cell_type": "code",
      "execution_count": 2151,
      "metadata": {
        "colab": {
          "base_uri": "https://localhost:8080/",
          "height": 564
        },
        "id": "qRPsnonUcSJi",
        "outputId": "51e4e214-d72a-4f21-aa80-34883abd3e6f"
      },
      "outputs": [
        {
          "data": {
            "image/png": "[encoded data removed]",
            "text/plain": [
              "<Figure size 1000x600 with 1 Axes>"
            ]
          },
          "metadata": {},
          "output_type": "display_data"
        }
      ],
      "source": [
        "# Gráfico de dispersión\n",
        "plt.figure(figsize=(10, 6))\n",
        "plt.scatter(y_test, y_pred, color='blue', alpha=0.5)\n",
        "plt.plot([min(y_test), max(y_test)], [min(y_test), max(y_test)], color='red', linestyle='--')\n",
        "plt.xlabel('Precio Real ($)')\n",
        "plt.ylabel('Precio Predicho ($)')\n",
        "plt.title('Precio Real vs Precio Predicho')\n",
        "plt.show()"
      ]
    },
    {
      "cell_type": "markdown",
      "metadata": {
        "id": "23NAAFy8cXeI"
      },
      "source": [
        "## Grafico de importancias"
      ]
    },
    {
      "cell_type": "code",
      "execution_count": 2152,
      "metadata": {
        "colab": {
          "base_uri": "https://localhost:8080/",
          "height": 938
        },
        "id": "TQAauJ1QcaHM",
        "outputId": "5a93a214-f7b5-4f8e-f347-a7dbe5402e1b"
      },
      "outputs": [
        {
          "name": "stdout",
          "output_type": "stream",
          "text": [
            "              Característica  Importancia\n",
            "13           precio_m2_medio    57.512122\n",
            "14  precio_m2_cubierto_medio    24.581308\n",
            "11                 precio_m2     7.898119\n",
            "1        superficie_cubierta     3.658861\n",
            "8                     banios     1.675515\n",
            "12        precio_m2_cubierto     0.951054\n",
            "2       cantidad_de_ambiente     0.844028\n",
            "0           superficie_total     0.815477\n",
            "3    cantidad_de_dormitorios     0.731229\n"
          ]
        },
        {
          "data": {
            "image/png": "[encoded data removed]",
            "text/plain": [
              "<Figure size 3000x2000 with 1 Axes>"
            ]
          },
          "metadata": {},
          "output_type": "display_data"
        }
      ],
      "source": [
        "# Obtener las importancias de las características\n",
        "importancias = model.get_feature_importance()\n",
        "columnas = X.columns\n",
        "\n",
        "# Crear un DataFrame para facilitar la visualización\n",
        "df_importancias = pd.DataFrame({'Característica': columnas, 'Importancia': importancias})\n",
        "\n",
        "# Ordenar por importancia descendente\n",
        "df_importancias = df_importancias.sort_values(by='Importancia', ascending=False)\n",
        "\n",
        "df_importancias = df_importancias[df_importancias[\"Importancia\"]>0.5]\n",
        "\n",
        "# Mostrar las importancias\n",
        "print(df_importancias)\n",
        "\n",
        "# Graficar las importancias\n",
        "plt.figure(figsize=(30, 20))\n",
        "plt.barh(df_importancias['Característica'], df_importancias['Importancia'], color='skyblue')\n",
        "plt.xlabel('Importancia')\n",
        "plt.ylabel('Característica')\n",
        "plt.title('Importancia de las Características')\n",
        "plt.gca().invert_yaxis()  # Invertir el eje y para que las más importantes estén arriba\n",
        "plt.show()"
      ]
    },
    {
      "cell_type": "code",
      "execution_count": 2153,
      "metadata": {
        "colab": {
          "base_uri": "https://localhost:8080/"
        },
        "id": "IJOhG4ev1st0",
        "outputId": "cb6eb40c-90a6-45c7-b7de-c2ee06bd0875"
      },
      "outputs": [
        {
          "name": "stdout",
          "output_type": "stream",
          "text": [
            "\n",
            "Tabla de Comparación:\n",
            "          Precio Real ($)  Precio Predicho ($)  Error Absoluto ($)  \\\n",
            "8451           200.000000           194.011082            5.988918   \n",
            "7675           320.000000           320.252040            0.252040   \n",
            "10514          420.000000           414.823925            5.176075   \n",
            "6601          4500.000000          4496.736649            3.263351   \n",
            "1122          3000.000000          3075.621920           75.621920   \n",
            "...                   ...                  ...                 ...   \n",
            "7680           420.000000           393.126973           26.873027   \n",
            "9894           300.000000           287.156979           12.843021   \n",
            "10954          790.000000           828.672958           38.672958   \n",
            "2708           290.000000           285.942929            4.057071   \n",
            "Promedio      1047.181001          1049.967706           33.539768   \n",
            "\n",
            "          Error Cuadrático ($²)  \n",
            "8451                  35.867139  \n",
            "7675                   0.063524  \n",
            "10514                 26.791754  \n",
            "6601                  10.649461  \n",
            "1122                5718.674822  \n",
            "...                         ...  \n",
            "7680                 722.159593  \n",
            "9894                 164.943195  \n",
            "10954               1495.597707  \n",
            "2708                  16.459827  \n",
            "Promedio            3948.802504  \n",
            "\n",
            "[780 rows x 4 columns]\n",
            "      Precio Real ($)  Precio Predicho ($)  Error Absoluto ($)  \\\n",
            "5044           2200.0          2795.431551          595.431551   \n",
            "\n",
            "      Error Cuadrático ($²)  \n",
            "5044          354538.731726  \n"
          ]
        }
      ],
      "source": [
        "errores_absolutos = [abs(real - pred) for real, pred in zip(y_test, y_pred)]\n",
        "errores_cuadraticos = [(real - pred)**2 for real, pred in zip(y_test, y_pred)]\n",
        "\n",
        "df_comparacion = pd.DataFrame({\n",
        "    'Precio Real ($)': y_test,\n",
        "    'Precio Predicho ($)': y_pred,\n",
        "    'Error Absoluto ($)': errores_absolutos,\n",
        "    'Error Cuadrático ($²)': errores_cuadraticos\n",
        "})\n",
        "\n",
        "df_comparacion.loc['Promedio'] = df_comparacion.mean()\n",
        "\n",
        "print(\"\\nTabla de Comparación:\")\n",
        "print(df_comparacion)\n",
        "\n",
        "df_comparacion.to_csv('df_comparacion.csv', index=False)\n"
      ]
    }
  ],
  "metadata": {
    "colab": {
      "collapsed_sections": [
        "uHq1pOT-NvbS",
        "bl8KCDKCOdFB",
        "jY189aqHOIw1",
        "wA8O9aZZR9Qd",
        "21ik-xNl_5Cg",
        "qqimgoUCTrex",
        "ASK59GumCOGb",
        "qi1hj3SHC4iq"
      ],
      "provenance": []
    },
    "kernelspec": {
      "display_name": "Python 3",
      "name": "python3"
    },
    "language_info": {
      "name": "python"
    }
  },
  "nbformat": 4,
  "nbformat_minor": 0
}
